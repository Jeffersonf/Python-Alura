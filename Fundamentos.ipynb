{
 "cells": [
  {
   "cell_type": "markdown",
   "id": "3a87a3b4",
   "metadata": {},
   "source": [
    "# Primeiros Exemplos"
   ]
  },
  {
   "cell_type": "code",
   "execution_count": 10,
   "id": "e8df178f",
   "metadata": {},
   "outputs": [
    {
     "name": "stdout",
     "output_type": "stream",
     "text": [
      "primeiro programa\n",
      "Help on built-in function print in module builtins:\n",
      "\n",
      "print(...)\n",
      "    print(value, ..., sep=' ', end='\\n', file=sys.stdout, flush=False)\n",
      "    \n",
      "    Prints the values to a stream, or to sys.stdout by default.\n",
      "    Optional keyword arguments:\n",
      "    file:  a file-like object (stream); defaults to the current sys.stdout.\n",
      "    sep:   string inserted between values, default a space.\n",
      "    end:   string appended after the last value, default a newline.\n",
      "    flush: whether to forcibly flush the stream.\n",
      "\n"
     ]
    }
   ],
   "source": [
    "print('primeiro programa')\n",
    "1 \\\n",
    "    + 2\n",
    "\n",
    "help(print)"
   ]
  },
  {
   "cell_type": "code",
   "execution_count": 21,
   "id": "20561ee5",
   "metadata": {},
   "outputs": [
    {
     "data": {
      "text/plain": [
       "15"
      ]
     },
     "execution_count": 21,
     "metadata": {},
     "output_type": "execute_result"
    }
   ],
   "source": [
    "1 + 2 + 3\n",
    "4 + 5 + 6"
   ]
  },
  {
   "cell_type": "code",
   "execution_count": 22,
   "id": "ea78aa1d",
   "metadata": {},
   "outputs": [
    {
     "name": "stdout",
     "output_type": "stream",
     "text": [
      "6\n",
      "15\n"
     ]
    }
   ],
   "source": [
    "print(1 + 2 + 3)\n",
    "print(4 + 5 + 6)"
   ]
  },
  {
   "cell_type": "markdown",
   "id": "61452e2a",
   "metadata": {},
   "source": [
    "# Tipos Básicos"
   ]
  },
  {
   "cell_type": "code",
   "execution_count": 20,
   "id": "1e91788a",
   "metadata": {},
   "outputs": [
    {
     "name": "stdout",
     "output_type": "stream",
     "text": [
      "True\n",
      "False\n",
      "2.2\n",
      "Aqui eu falo na minha língua!\n",
      "Tbm funciona.\n",
      "Você é muito muito muito legal!\n",
      "[1, 2, 3]\n",
      "{'nome': 'Pedro', 'idade': 22}\n",
      "None\n"
     ]
    }
   ],
   "source": [
    "print(True)\n",
    "print(False)\n",
    "print(1.2 + 1)\n",
    "print('Aqui eu falo na minha língua!')\n",
    "print(\"Tbm funciona.\")\n",
    "print('Você é ' + 3 * 'muito ' + 'legal!')\n",
    "# print(3 + '3') -> ambiguidade\n",
    "print([1, 2, 3])\n",
    "print({'nome': 'Pedro', 'idade': 22})\n",
    "print(None)"
   ]
  },
  {
   "cell_type": "markdown",
   "id": "3869bc52",
   "metadata": {},
   "source": [
    "# Variáveis"
   ]
  },
  {
   "cell_type": "code",
   "execution_count": 1,
   "id": "c21154dd",
   "metadata": {},
   "outputs": [
    {
     "name": "stdout",
     "output_type": "stream",
     "text": [
      "15.2\n",
      "Agora eu sou uma string!\n"
     ]
    },
    {
     "data": {
      "text/plain": [
       "5.2"
      ]
     },
     "execution_count": 1,
     "metadata": {},
     "output_type": "execute_result"
    }
   ],
   "source": [
    "a = 10\n",
    "b = 5.2\n",
    "\n",
    "print(a + b)\n",
    "\n",
    "a = 'Agora eu sou uma string!'\n",
    "print(a)\n",
    "a\n",
    "b\n",
    "\n",
    "# print(a + b)"
   ]
  },
  {
   "cell_type": "markdown",
   "id": "074d5ff4",
   "metadata": {},
   "source": [
    "# Comentários"
   ]
  },
  {
   "cell_type": "code",
   "execution_count": 14,
   "id": "efd0bc8f",
   "metadata": {},
   "outputs": [
    {
     "name": "stdout",
     "output_type": "stream",
     "text": [
      "994.25\n",
      "Fim de verdade\n",
      "Agora sim o fim de verdade\n"
     ]
    }
   ],
   "source": [
    "# Minhas variáveis\n",
    "salario = 3450.45\n",
    "despesas = 2456.2\n",
    "\n",
    "\"\"\"\n",
    "A ideia é calcular o\n",
    "quanto vai sobrar no \n",
    "final do mês!\n",
    "\"\"\"\n",
    "print(salario - despesas)\n",
    "\n",
    "# print('Fim')\n",
    "print('Fim de verdade') # comentário aqui tbm vale!\n",
    "\n",
    "'''\n",
    "A ideia é calcular o\n",
    "quanto vai sobrar no \n",
    "final do mês!\n",
    "'''\n",
    "print('Agora sim o fim de verdade')"
   ]
  },
  {
   "cell_type": "markdown",
   "id": "13e52e3b",
   "metadata": {},
   "source": [
    "# Operadores Aritméticos"
   ]
  },
  {
   "cell_type": "code",
   "execution_count": 17,
   "id": "2e4966df",
   "metadata": {},
   "outputs": [
    {
     "name": "stdout",
     "output_type": "stream",
     "text": [
      "5\n",
      "-3\n",
      "10.6\n",
      "3.1333333333333333\n",
      "3.0\n",
      "256\n",
      "1\n",
      "24\n"
     ]
    }
   ],
   "source": [
    "print(2 + 3)\n",
    "print(4 - 7)\n",
    "print(2 * 5.3)\n",
    "print(9.4 / 3)\n",
    "print(9.4 // 3)\n",
    "print(2 ** 8)\n",
    "print(10 % 3)\n",
    "\n",
    "a = 12\n",
    "b = a\n",
    "print(a + b)"
   ]
  },
  {
   "cell_type": "code",
   "execution_count": 39,
   "id": "65a8d94a",
   "metadata": {},
   "outputs": [
    {
     "name": "stdout",
     "output_type": "stream",
     "text": [
      "71.0\n"
     ]
    }
   ],
   "source": [
    "# Minhas variáveis\n",
    "salario = 3450.45\n",
    "despesas = 2456.2\n",
    "\n",
    "porcentual = ((despesas * 100) // salario)\n",
    "print(porcentual)"
   ]
  },
  {
   "cell_type": "markdown",
   "id": "9ebf5a14",
   "metadata": {},
   "source": [
    "# Operadores Relacionais"
   ]
  },
  {
   "cell_type": "code",
   "execution_count": 47,
   "id": "9d2082f4",
   "metadata": {},
   "outputs": [
    {
     "data": {
      "text/plain": [
       "False"
      ]
     },
     "execution_count": 47,
     "metadata": {},
     "output_type": "execute_result"
    }
   ],
   "source": [
    "3 > 4\n",
    "4 >= 3\n",
    "1 < 2\n",
    "3 <= 1\n",
    "3 != 2\n",
    "3 == 3\n",
    "2 == '2'"
   ]
  },
  {
   "cell_type": "markdown",
   "id": "776692a1",
   "metadata": {},
   "source": [
    "# Operadores de Atribuição"
   ]
  },
  {
   "cell_type": "code",
   "execution_count": 54,
   "id": "fa3104af",
   "metadata": {},
   "outputs": [
    {
     "name": "stdout",
     "output_type": "stream",
     "text": [
      "10\n",
      "15\n",
      "12\n",
      "24\n",
      "6.0\n",
      "2.0\n",
      "256.0\n",
      "2.0\n"
     ]
    }
   ],
   "source": [
    "a = 3\n",
    "a = a + 7\n",
    "print(a)\n",
    "\n",
    "# a = 5\n",
    "a += 5 # a = a + 5\n",
    "print(a)\n",
    "\n",
    "a -= 3\n",
    "print(a)\n",
    "\n",
    "a *= 2\n",
    "print(a)\n",
    "\n",
    "a /= 4\n",
    "print(a)\n",
    "\n",
    "a %= 4\n",
    "print(a)\n",
    "\n",
    "a **= 8\n",
    "print(a)\n",
    "\n",
    "a //= 127\n",
    "print(a)"
   ]
  },
  {
   "cell_type": "markdown",
   "id": "2bef4b60",
   "metadata": {},
   "source": [
    "# Operadores Lógicos"
   ]
  },
  {
   "cell_type": "code",
   "execution_count": 88,
   "id": "1e0d5e7b",
   "metadata": {},
   "outputs": [
    {
     "data": {
      "text/plain": [
       "True"
      ]
     },
     "execution_count": 88,
     "metadata": {},
     "output_type": "execute_result"
    }
   ],
   "source": [
    "True or False\n",
    "7 != 3 and 2 > 3\n",
    "\n",
    "# Tabela verdade do AND\n",
    "True and True\n",
    "True and False\n",
    "False and True\n",
    "False and False\n",
    "True and True and True and False and True and True\n",
    "\n",
    "# Tabela verdade do OR\n",
    "True or True\n",
    "True or False\n",
    "False or True\n",
    "False or False\n",
    "False or False or False or True or False or False\n",
    "\n",
    "# Tabela verdade do XOR\n",
    "True != True\n",
    "True != False\n",
    "False != True\n",
    "False != False\n",
    "\n",
    "# Operador de Negação (unário)\n",
    "not True\n",
    "not False\n",
    "\n",
    "not 0\n",
    "not 1\n",
    "not not -1\n",
    "not not True\n",
    "\n",
    "# Cuidado!\n",
    "True & False\n",
    "False | True\n",
    "True ^ False\n",
    "\n",
    "# AND Bit-a-bit\n",
    "# 3 = 11\n",
    "# 2 = 10\n",
    "# _ = 10\n",
    "3 & 2\n",
    "\n",
    "# OR Bit-a-bit\n",
    "# 3 = 11\n",
    "# 2 = 10\n",
    "# _ = 11\n",
    "3 | 2\n",
    "\n",
    "# XOR Bit-a-bit\n",
    "# 3 = 11\n",
    "# 2 = 10\n",
    "# _ = 01\n",
    "3 ^ 2\n",
    "\n",
    "# Um pouco de realidade\n",
    "saldo = 1000\n",
    "salario = 4000\n",
    "despesas = 2900\n",
    "\n",
    "saldo_positivo = saldo > 0\n",
    "despesas_controladas = salario - despesas >= 0.2 * salario\n",
    "\n",
    "meta = saldo_positivo and despesas_controladas\n",
    "meta"
   ]
  },
  {
   "cell_type": "code",
   "execution_count": 1,
   "id": "1145fedf",
   "metadata": {},
   "outputs": [
    {
     "name": "stdout",
     "output_type": "stream",
     "text": [
      "TV50=False TV32=True Sorvete=True Saudável=False\n"
     ]
    }
   ],
   "source": [
    "# Desafio Operadores Lógicos\n",
    "\n",
    "# Os Trabalhos\n",
    "trabalho_terca = True\n",
    "trabalho_quinta = False\n",
    "\n",
    "'''\n",
    "- Confirmando os 2: TV 50' + Sorvete\n",
    "- Confirmando apenas 1: TV 32' + Sorvete\n",
    "- Nenhum confirmado: Fica em casa\n",
    "'''\n",
    "\n",
    "tv_50 = trabalho_terca and trabalho_quinta\n",
    "sorvete = trabalho_terca or trabalho_quinta\n",
    "tv_32 = trabalho_terca != trabalho_quinta\n",
    "mais_saudavel = not sorvete\n",
    "\n",
    "print('TV50={} TV32={} Sorvete={} Saudável={}'\n",
    "     .format(tv_50, tv_32, sorvete, mais_saudavel))\n",
    "\n",
    "# '{2}, {1}, = {0}'.format(1, False, 'resultado')"
   ]
  },
  {
   "cell_type": "markdown",
   "id": "5183c984",
   "metadata": {},
   "source": [
    "# Valores Unários"
   ]
  },
  {
   "cell_type": "code",
   "execution_count": 14,
   "id": "4d35e80b",
   "metadata": {},
   "outputs": [
    {
     "data": {
      "text/plain": [
       "True"
      ]
     },
     "execution_count": 14,
     "metadata": {},
     "output_type": "execute_result"
    }
   ],
   "source": [
    "a = 3\n",
    "# a++\n",
    "# a += 1\n",
    "# a\n",
    "# a--\n",
    "++a\n",
    "++a\n",
    "-a\n",
    "+a\n",
    "\n",
    "not 0\n",
    "not 1\n",
    "not -2\n",
    "not False\n",
    "not not True"
   ]
  },
  {
   "cell_type": "markdown",
   "id": "8a4be4ce",
   "metadata": {},
   "source": [
    "# Operadores Ternários"
   ]
  },
  {
   "cell_type": "code",
   "execution_count": 20,
   "id": "51881f9c",
   "metadata": {},
   "outputs": [
    {
     "name": "stdout",
     "output_type": "stream",
     "text": [
      "Hoje estou com as roupas molhadas.\n",
      "Hoje estou com as roupas molhadas.\n"
     ]
    }
   ],
   "source": [
    "esta_chovendo = True\n",
    "\n",
    "print('Hoje estou com as roupas ' + ('secas.', 'molhadas.')[esta_chovendo])\n",
    "print('Hoje estou com as roupas ' + ('molhadas.' if esta_chovendo else 'secas'))"
   ]
  },
  {
   "cell_type": "markdown",
   "id": "1c6eb638",
   "metadata": {},
   "source": [
    "# Mais Operadores"
   ]
  },
  {
   "cell_type": "code",
   "execution_count": 31,
   "id": "09cd03a3",
   "metadata": {},
   "outputs": [
    {
     "data": {
      "text/plain": [
       "True"
      ]
     },
     "execution_count": 31,
     "metadata": {},
     "output_type": "execute_result"
    }
   ],
   "source": [
    "# Operador de Membro\n",
    "lista = [1, 2, 3, 'Ana', 'Carla']\n",
    "2 in lista\n",
    "'Ana' not in lista\n",
    "\n",
    "# Operador de Identidade\n",
    "x = 3\n",
    "y = x\n",
    "z = 3\n",
    "x is y\n",
    "y is z\n",
    "x is not z\n",
    "\n",
    "lista_a = [1, 2, 3]\n",
    "lista_b = lista_a\n",
    "lista_c = [1, 2, 3]\n",
    "\n",
    "lista_a is lista_b\n",
    "lista_b is lista_c\n",
    "lista_a is not lista_c"
   ]
  }
 ],
 "metadata": {
  "kernelspec": {
   "display_name": "Python 3 (ipykernel)",
   "language": "python",
   "name": "python3"
  },
  "language_info": {
   "codemirror_mode": {
    "name": "ipython",
    "version": 3
   },
   "file_extension": ".py",
   "mimetype": "text/x-python",
   "name": "python",
   "nbconvert_exporter": "python",
   "pygments_lexer": "ipython3",
   "version": "3.9.7"
  }
 },
 "nbformat": 4,
 "nbformat_minor": 5
}
